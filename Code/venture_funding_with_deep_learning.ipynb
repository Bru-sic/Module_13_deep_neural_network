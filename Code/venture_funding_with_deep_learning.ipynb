{
 "cells": [
  {
   "cell_type": "markdown",
   "metadata": {},
   "source": [
    "# Venture Funding with Deep Learning\n",
    "\n",
    "You work as a risk management associate at Alphabet Soup, a venture capital firm. Alphabet Soup’s business team receives many funding applications from startups every day. This team has asked you to help them create a model that predicts whether applicants will be successful if funded by Alphabet Soup.\n",
    "\n",
    "The business team has given you a CSV containing more than 34,000 organizations that have received funding from Alphabet Soup over the years. With your knowledge of machine learning and neural networks, you decide to use the features in the provided dataset to create a binary classifier model that will predict whether an applicant will become a successful business. The CSV file contains a variety of information about these businesses, including whether or not they ultimately became successful.\n",
    "\n",
    "## Instructions:\n",
    "\n",
    "The steps for this challenge are broken out into the following sections:\n",
    "\n",
    "* Prepare the data for use on a neural network model.\n",
    "\n",
    "* Compile and evaluate a binary classification model using a neural network.\n",
    "\n",
    "* Optimize the neural network model.\n",
    "\n",
    "### Prepare the Data for Use on a Neural Network Model \n",
    "\n",
    "Using your knowledge of Pandas and scikit-learn’s `StandardScaler()`, preprocess the dataset so that you can use it to compile and evaluate the neural network model later.\n",
    "\n",
    "Open the starter code file, and complete the following data preparation steps:\n",
    "\n",
    "1. Read the `applicants_data.csv` file into a Pandas DataFrame. Review the DataFrame, looking for categorical variables that will need to be encoded, as well as columns that could eventually define your features and target variables.   \n",
    "\n",
    "2. Drop the “EIN” (Employer Identification Number) and “NAME” columns from the DataFrame, because they are not relevant to the binary classification model.\n",
    " \n",
    "3. Encode the dataset’s categorical variables using `OneHotEncoder`, and then place the encoded variables into a new DataFrame.\n",
    "\n",
    "4. Add the original DataFrame’s numerical variables to the DataFrame containing the encoded variables.\n",
    "\n",
    "> **Note** To complete this step, you will employ the Pandas `concat()` function that was introduced earlier in this course. \n",
    "\n",
    "5. Using the preprocessed data, create the features (`X`) and target (`y`) datasets. The target dataset should be defined by the preprocessed DataFrame column “IS_SUCCESSFUL”. The remaining columns should define the features dataset. \n",
    "\n",
    "6. Split the features and target sets into training and testing datasets.\n",
    "\n",
    "7. Use scikit-learn's `StandardScaler` to scale the features data.\n",
    "\n",
    "### Compile and Evaluate a Binary Classification Model Using a Neural Network\n",
    "\n",
    "Use your knowledge of TensorFlow to design a binary classification deep neural network model. This model should use the dataset’s features to predict whether an Alphabet Soup&ndash;funded startup will be successful based on the features in the dataset. Consider the number of inputs before determining the number of layers that your model will contain or the number of neurons on each layer. Then, compile and fit your model. Finally, evaluate your binary classification model to calculate the model’s loss and accuracy. \n",
    " \n",
    "To do so, complete the following steps:\n",
    "\n",
    "1. Create a deep neural network by assigning the number of input features, the number of layers, and the number of neurons on each layer using Tensorflow’s Keras.\n",
    "\n",
    "> **Hint** You can start with a two-layer deep neural network model that uses the `relu` activation function for both layers.\n",
    "\n",
    "2. Compile and fit the model using the `binary_crossentropy` loss function, the `adam` optimizer, and the `accuracy` evaluation metric.\n",
    "\n",
    "> **Hint** When fitting the model, start with a small number of epochs, such as 20, 50, or 100.\n",
    "\n",
    "3. Evaluate the model using the test data to determine the model’s loss and accuracy.\n",
    "\n",
    "4. Save and export your model to an HDF5 file, and name the file `AlphabetSoup.h5`. \n",
    "\n",
    "### Optimize the Neural Network Model\n",
    "\n",
    "Using your knowledge of TensorFlow and Keras, optimize your model to improve the model's accuracy. Even if you do not successfully achieve a better accuracy, you'll need to demonstrate at least two attempts to optimize the model. You can include these attempts in your existing notebook. Or, you can make copies of the starter notebook in the same folder, rename them, and code each model optimization in a new notebook. \n",
    "\n",
    "> **Note** You will not lose points if your model does not achieve a high accuracy, as long as you make at least two attempts to optimize the model.\n",
    "\n",
    "To do so, complete the following steps:\n",
    "\n",
    "1. Define at least three new deep neural network models (the original plus 2 optimization attempts). With each, try to improve on your first model’s predictive accuracy.\n",
    "\n",
    "> **Rewind** Recall that perfect accuracy has a value of 1, so accuracy improves as its value moves closer to 1. To optimize your model for a predictive accuracy as close to 1 as possible, you can use any or all of the following techniques:\n",
    ">\n",
    "> * Adjust the input data by dropping different features columns to ensure that no variables or outliers confuse the model.\n",
    ">\n",
    "> * Add more neurons (nodes) to a hidden layer.\n",
    ">\n",
    "> * Add more hidden layers.\n",
    ">\n",
    "> * Use different activation functions for the hidden layers.\n",
    ">\n",
    "> * Add to or reduce the number of epochs in the training regimen.\n",
    "\n",
    "2. After finishing your models, display the accuracy scores achieved by each model, and compare the results.\n",
    "\n",
    "3. Save each of your models as an HDF5 file.\n"
   ]
  },
  {
   "cell_type": "code",
   "execution_count": null,
   "metadata": {
    "tags": []
   },
   "outputs": [],
   "source": [
    "# Imports\n",
    "import pandas as pd\n",
    "from pathlib import Path\n",
    "import tensorflow as tf\n",
    "from tensorflow.keras.layers import Dense\n",
    "from tensorflow.keras.models import Sequential\n",
    "from sklearn.model_selection import train_test_split\n",
    "from sklearn.preprocessing import StandardScaler,OneHotEncoder"
   ]
  },
  {
   "cell_type": "markdown",
   "metadata": {},
   "source": [
    "---\n",
    "\n",
    "## Prepare the data to be used on a neural network model"
   ]
  },
  {
   "cell_type": "markdown",
   "metadata": {},
   "source": [
    "### Step 1: Read the `applicants_data.csv` file into a Pandas DataFrame. Review the DataFrame, looking for categorical variables that will need to be encoded, as well as columns that could eventually define your features and target variables.  \n"
   ]
  },
  {
   "cell_type": "code",
   "execution_count": null,
   "metadata": {
    "tags": []
   },
   "outputs": [],
   "source": [
    "# Read the applicants_data.csv file from the Resources folder into a Pandas DataFrame\n",
    "applicant_data_df = pd.read_csv(                  # Read the specified csv file into the dataframe\n",
    "    Path(\"../Resources/applicants_data.csv\")   # using a normalized version of the path and filename for the operating system on which the code is running\n",
    "    )\n",
    "\n",
    "# Review the DataFrame\n",
    "display( \"*** applicant_data_df Head ***\", applicant_data_df.head() );                        # Show the first few rows of the dataframe\n",
    "display( \"*** Null Count by Column ***\", applicant_data_df.isna().sum() );  # Show the number of nulls in each column out of interest to determine the quality of the data"
   ]
  },
  {
   "cell_type": "code",
   "execution_count": null,
   "metadata": {
    "tags": []
   },
   "outputs": [],
   "source": [
    "# Review the data types associated with the columns\n",
    "display( \"*** applicant_data_df Column Data Types ***\", applicant_data_df.dtypes ) # Display each column's data type"
   ]
  },
  {
   "cell_type": "markdown",
   "metadata": {},
   "source": [
    "### Step 2: Drop the “EIN” (Employer Identification Number) and “NAME” columns from the DataFrame, because they are not relevant to the binary classification model."
   ]
  },
  {
   "cell_type": "code",
   "execution_count": null,
   "metadata": {
    "tags": []
   },
   "outputs": [],
   "source": [
    "# Drop the 'EIN' and 'NAME' columns from the DataFrame\n",
    "applicant_data_df.drop(columns=[\"EIN\", \"NAME\"], inplace=True)  # Dropping the EIN and NAME columns as they are not relevant to this binary classification\n",
    "\n",
    "# Review the DataFrame\n",
    "display( \"*** applicant_data_df Head ***\", applicant_data_df.head() );                        # Show the first few rows of the dataframe"
   ]
  },
  {
   "cell_type": "code",
   "execution_count": null,
   "metadata": {
    "tags": []
   },
   "outputs": [],
   "source": [
    "# Get a rough idea of the type (categories) of data in each column \n",
    "display( \"*** applicant_data_df dataset categories by Column ***\" )\n",
    "for index in applicant_data_df:                            # Iterate through each column of the data frame\n",
    "    print(index, applicant_data_df[index].unique())        #    showing the column name and the list of unique values in the column"
   ]
  },
  {
   "cell_type": "markdown",
   "metadata": {},
   "source": [
    " # Initial Assessment of the Data\n",
    " The STATUS  and IS_SUCCESSFUL colums are already numeric (int64 dataype) and contain binary data (0 or 1), meaning these are already suitable as input to the Neural Network algorithms, and also provides an indication of the types of Activation functions that might be suitable for use in out model. For example, since there are no negative numbers the Leaky ReLU might not work any better than the standard ReLU. There is lineal data (ASK_AMT) and a range of categorical data which will need to be normalised / encoded. "
   ]
  },
  {
   "cell_type": "markdown",
   "metadata": {},
   "source": [
    "### Step 3: Encode the dataset’s categorical variables using `OneHotEncoder`, and then place the encoded variables into a new DataFrame."
   ]
  },
  {
   "cell_type": "code",
   "execution_count": null,
   "metadata": {
    "tags": []
   },
   "outputs": [],
   "source": [
    "# Create a list of categorical variables \n",
    "categorical_variables = list(applicant_data_df.dtypes[applicant_data_df.dtypes == \"object\"].index)  # Create a list of column names which have a data type of object \n",
    "\n",
    "# Display the categorical variables list\n",
    "display( \"*** categorical_variables ***\", categorical_variables )       # Show the list of categorical variables"
   ]
  },
  {
   "cell_type": "code",
   "execution_count": null,
   "metadata": {
    "tags": []
   },
   "outputs": [],
   "source": [
    "# Create a OneHotEncoder instance\n",
    "enc = OneHotEncoder(sparse_output=False)   # Create a binary column for each category returning a sparse matrix which the neural network can work with more efficiently"
   ]
  },
  {
   "cell_type": "code",
   "execution_count": null,
   "metadata": {
    "tags": []
   },
   "outputs": [],
   "source": [
    "# Encode the categorcal variables using OneHotEncoder\n",
    "encoded_data = enc.fit_transform(applicant_data_df[categorical_variables]) # Fit to data, then transform it using the OneHotEncoder fit_transform method"
   ]
  },
  {
   "cell_type": "code",
   "execution_count": null,
   "metadata": {
    "tags": []
   },
   "outputs": [],
   "source": [
    "# Create a DataFrame with the encoded variables\n",
    "encoded_df =  pd.DataFrame( encoded_data, columns=enc.get_feature_names_out(categorical_variables) ) # Create a new data frame with the transformed data and transformed column names\n",
    "\n",
    "# Review the DataFrame\n",
    "display( \"*** encoded_df Head ***\", encoded_df.head() );                        # Show the first few rows of the dataframe"
   ]
  },
  {
   "cell_type": "markdown",
   "metadata": {},
   "source": [
    "### Step 4: Add the original DataFrame’s numerical variables to the DataFrame containing the encoded variables."
   ]
  },
  {
   "cell_type": "code",
   "execution_count": null,
   "metadata": {
    "tags": []
   },
   "outputs": [],
   "source": [
    "# Create a new data frame `preprocessed_df` combining the encoded variables and the numeric variables from the original data frame\n",
    "\n",
    "# Get the numerical variables from the original DataFrame \n",
    "numerical_variables_df = applicant_data_df.drop( columns=categorical_variables ) # Dropping categorical columns from the original df gives us the numeric variables\n",
    "\n",
    "# Create a new data frame with the transformed data and transformed column names\n",
    "preprocessed_df = pd.concat( [numerical_variables_df, encoded_df], axis=1 )\n",
    "\n",
    "# Reveiw the DataFrame\n",
    "display( \"*** preprocessed_df Head ***\", preprocessed_df.head() );                        # Show the first few rows of the dataframe"
   ]
  },
  {
   "cell_type": "markdown",
   "metadata": {},
   "source": [
    "### Step 5: Using the preprocessed data, create the features (`X`) and target (`y`) datasets. The target dataset should be defined by the preprocessed DataFrame column “IS_SUCCESSFUL”. The remaining columns should define the features dataset. \n",
    "\n"
   ]
  },
  {
   "cell_type": "code",
   "execution_count": null,
   "metadata": {
    "tags": []
   },
   "outputs": [],
   "source": [
    "# Define the target set y using the IS_SUCCESSFUL column\n",
    "y = preprocessed_df[\"IS_SUCCESSFUL\"] # Use the IS_SUCCESSFUL column as the y (target) dataset\n",
    "\n",
    "# Display a sample of y\n",
    "display( \"*** Sample of 'y' (Target dataset) ***\", y[:5] );                        # Show the first few rows"
   ]
  },
  {
   "cell_type": "code",
   "execution_count": null,
   "metadata": {
    "tags": []
   },
   "outputs": [],
   "source": [
    "# Define features set X by selecting all columns but IS_SUCCESSFUL\n",
    "X = preprocessed_df.drop(columns=[\"IS_SUCCESSFUL\"]) # Use the other columns as the X (dataset) dropping IS_SUCCESSFUL since it is used as the y (target)\n",
    "\n",
    "# Review the features DataFrame\n",
    "display( \"*** Sample of 'X' (Features dataset) ***\", X.head() );                        # Show the first few rows of the dataframe"
   ]
  },
  {
   "cell_type": "markdown",
   "metadata": {},
   "source": [
    "### Step 6: Split the features and target sets into training and testing datasets.\n"
   ]
  },
  {
   "cell_type": "code",
   "execution_count": null,
   "metadata": {
    "tags": []
   },
   "outputs": [],
   "source": [
    "# Split the preprocessed data into a training and testing dataset\n",
    "# Assign the function a random_state equal to 1 to maintain reproducible results across multiple function calls\n",
    "X_train, X_test, y_train, y_test = train_test_split(X, y, random_state=1) # Split the data into training and test set, but maintain the results across multiple calls to the function"
   ]
  },
  {
   "cell_type": "markdown",
   "metadata": {},
   "source": [
    "### Step 7: Use scikit-learn's `StandardScaler` to scale the features data."
   ]
  },
  {
   "cell_type": "code",
   "execution_count": null,
   "metadata": {
    "tags": []
   },
   "outputs": [],
   "source": [
    "# Create a StandardScaler instance\n",
    "scaler = StandardScaler() # Instantiate the StandardScaler\n",
    "\n",
    "# Fit the scaler to the features training dataset\n",
    "X_scaler = scaler.fit(X_train)   # Use the scaler to fit the X (Features) training (Compute the mean and std to be used for later scaling)\n",
    "\n",
    "# Fit the scaler to the features training dataset\n",
    "X_train_scaled = X_scaler.transform(X_train)  # Perform standardization by centering and scaling X (Features) training dataset to get a transformed (scaled) dataframe\n",
    "X_test_scaled  = X_scaler.transform(X_test)   # Perform standardization by centering and scaling X (Features) test dataset to get a transformed (scaled) dataframe  "
   ]
  },
  {
   "cell_type": "markdown",
   "metadata": {},
   "source": [
    "---\n",
    "\n",
    "## Compile and Evaluate a Binary Classification Model Using a Neural Network"
   ]
  },
  {
   "cell_type": "markdown",
   "metadata": {},
   "source": [
    "### Step 1: Create a deep neural network by assigning the number of input features, the number of layers, and the number of neurons on each layer using Tensorflow’s Keras.\n",
    "\n",
    "> **Hint** You can start with a two-layer deep neural network model that uses the `relu` activation function for both layers.\n"
   ]
  },
  {
   "cell_type": "code",
   "execution_count": null,
   "metadata": {
    "tags": []
   },
   "outputs": [],
   "source": [
    "# Define the the number of inputs (features) to the model\n",
    "number_input_features = len(X_train.iloc[0])   # Get the count of columns in the training feature set\n",
    "\n",
    "# Review the number of features\n",
    "display( f\"Number of Input Features is: {number_input_features}\" )"
   ]
  },
  {
   "cell_type": "code",
   "execution_count": null,
   "metadata": {
    "tags": []
   },
   "outputs": [],
   "source": [
    "# Define the number of neurons in the output layer\n",
    "number_output_neurons = 1  # As we are looking for a binary outcome classification, 1 neuron is appropriate"
   ]
  },
  {
   "cell_type": "code",
   "execution_count": null,
   "metadata": {
    "tags": []
   },
   "outputs": [],
   "source": [
    "# Define the number of hidden nodes (neurons) for the first hidden layer\n",
    "number_hidden_nodes_layer1 = number_input_features + 1 # Use the number of features plus 1 for bias as the number of neurons in the input layer.\n",
    "\n",
    "# Review the number hidden nodes in the first layer\n",
    "display( f\"Number of Neurons (Hidden Nodes) in Layer 1 is: {number_hidden_nodes_layer1}\" ) # Display a label and number_hidden_nodes_layer1 value"
   ]
  },
  {
   "cell_type": "code",
   "execution_count": null,
   "metadata": {
    "tags": []
   },
   "outputs": [],
   "source": [
    "# Define the number of hidden nodes for the second hidden layer\n",
    "number_hidden_nodes_layer2 = max(int(number_hidden_nodes_layer1**0.5), 4) # Set layer 2 Neurons to the square root of layer 1  OR 4 whichever is greater\n",
    "\n",
    "# Review the number hidden nodes in the second layer\n",
    "\n",
    "display( f\"Number of Neurons (Hidden Nodes) in Layer 2 is: {number_hidden_nodes_layer2}\" ) # Display a label and number_hidden_nodes_layer1 value"
   ]
  },
  {
   "cell_type": "code",
   "execution_count": null,
   "metadata": {
    "tags": []
   },
   "outputs": [],
   "source": [
    "# Create the Sequential model instance\n",
    "nn = Sequential()   # Instantiate the Sequential model to nn "
   ]
  },
  {
   "cell_type": "code",
   "execution_count": null,
   "metadata": {
    "tags": []
   },
   "outputs": [],
   "source": [
    "# Add the first hidden layer\n",
    "nn.add(Dense(units=number_hidden_nodes_layer1, input_dim=number_input_features, activation=\"relu\")) # Add the Input layer to the Sequence model"
   ]
  },
  {
   "cell_type": "code",
   "execution_count": null,
   "metadata": {
    "tags": []
   },
   "outputs": [],
   "source": [
    "# Add the second hidden layer\n",
    "# Add the second Dense layer specifying the number of hidden nodes and the activation function\n",
    "nn.add(Dense(units=number_hidden_nodes_layer2, activation=\"relu\")) # Add layer 2 as a hidden layer which uses the ReLU activation function"
   ]
  },
  {
   "cell_type": "code",
   "execution_count": null,
   "metadata": {
    "tags": []
   },
   "outputs": [],
   "source": [
    "# Add the output layer to the model specifying the number of output neurons and activation function of sigmoid\n",
    "nn.add(Dense(number_output_neurons, activation=\"sigmoid\")) # Add the final (output) layer as a sigmoid as we are looking at predicting a probability (of funding approval) which the function is suited for"
   ]
  },
  {
   "cell_type": "code",
   "execution_count": null,
   "metadata": {
    "tags": []
   },
   "outputs": [],
   "source": [
    "# Display the Sequential model summary\n",
    "display( \"*** Base Model Summary Information ***\" )\n",
    "nn.summary() # Display the summary of the Base Model"
   ]
  },
  {
   "cell_type": "markdown",
   "metadata": {},
   "source": [
    "### Step 2: Compile and fit the model using the `binary_crossentropy` loss function, the `adam` optimizer, and the `accuracy` evaluation metric.\n"
   ]
  },
  {
   "cell_type": "code",
   "execution_count": null,
   "metadata": {
    "tags": []
   },
   "outputs": [],
   "source": [
    "# Compile the Sequential model\n",
    "nn.compile(loss=\"binary_crossentropy\", optimizer=\"adam\", metrics=[\"accuracy\"])   # Using binary_crossentropy and the Adam optimiser "
   ]
  },
  {
   "cell_type": "code",
   "execution_count": null,
   "metadata": {
    "tags": []
   },
   "outputs": [],
   "source": [
    "# Fit the model using 50 epochs and the training data\n",
    "fit_model = nn.fit(X_train_scaled, y_train, epochs=50) # Fit the model"
   ]
  },
  {
   "cell_type": "markdown",
   "metadata": {},
   "source": [
    "### Step 3: Evaluate the model using the test data to determine the model’s loss and accuracy.\n"
   ]
  },
  {
   "cell_type": "code",
   "execution_count": null,
   "metadata": {},
   "outputs": [],
   "source": [
    "# Evaluate the model loss and accuracy metrics using the evaluate method and the test data\n",
    "model_loss, model_accuracy = nn.evaluate(X_test_scaled, y_test, verbose=2) # Evaluate the performance of the Base Model\n",
    "\n",
    "# Display the model loss and accuracy results\n",
    "display(\"*** Base Model Evaluation Results ***\" )\n",
    "display(f\"Loss: {model_loss}, Accuracy: {model_accuracy}\")"
   ]
  },
  {
   "cell_type": "markdown",
   "metadata": {},
   "source": [
    "### Step 4: Save and export your model to an HDF5 file, and name the file `AlphabetSoup.h5`. \n"
   ]
  },
  {
   "cell_type": "code",
   "execution_count": null,
   "metadata": {},
   "outputs": [],
   "source": [
    "# Set the model's file path\n",
    "base_model_file_path = Path(\"../Resources/AlphabetSoup.h5\")  # Set the save filename for the base model into the ../Resources folder\n",
    "\n",
    "# Export the base model to a HDF5 file format\n",
    "nn.save(base_model_file_path)  # Save the model to the specified path"
   ]
  },
  {
   "cell_type": "markdown",
   "metadata": {},
   "source": [
    "---\n",
    "\n",
    "## Optimize the neural network model\n"
   ]
  },
  {
   "cell_type": "markdown",
   "metadata": {},
   "source": [
    "### Step 1: Define at least three new deep neural network models (resulting in the original plus 3 optimization attempts). With each, try to improve on your first model’s predictive accuracy.\n",
    "\n",
    "> **Rewind** Recall that perfect accuracy has a value of 1, so accuracy improves as its value moves closer to 1. To optimize your model for a predictive accuracy as close to 1 as possible, you can use any or all of the following techniques:\n",
    ">\n",
    "> * Adjust the input data by dropping different features columns to ensure that no variables or outliers confuse the model.\n",
    ">\n",
    "> * Add more neurons (nodes) to a hidden layer.\n",
    ">\n",
    "> * Add more hidden layers.\n",
    ">\n",
    "> * Use different activation functions for the hidden layers.\n",
    ">\n",
    "> * Add to or reduce the number of epochs in the training regimen.\n"
   ]
  },
  {
   "cell_type": "markdown",
   "metadata": {},
   "source": [
    "### Alternative Model 1"
   ]
  },
  {
   "cell_type": "code",
   "execution_count": null,
   "metadata": {},
   "outputs": [],
   "source": [
    "# Define the the number of inputs (features) to the model\n",
    "number_input_features_A1 = number_input_features  # Use the same number of input features as the base model\n",
    "\n",
    "# Review the number of features\n",
    "display( f\"Number of Input Features (Alternative Model 1) is: {number_input_features_A1}\" )"
   ]
  },
  {
   "cell_type": "code",
   "execution_count": null,
   "metadata": {},
   "outputs": [],
   "source": [
    "# Define the number of neurons in the output layer\n",
    "number_output_neurons_A1 = number_output_neurons # Maintain the same number of output neurons as the base model"
   ]
  },
  {
   "cell_type": "code",
   "execution_count": null,
   "metadata": {},
   "outputs": [],
   "source": [
    "# Define the number of hidden nodes for the first hidden layer\n",
    "number_hidden_nodes_layer1_A1 = number_hidden_nodes_layer1 # Use the same number of input nodes for layer 1 as the base model\n",
    "\n",
    "# Review the number of hidden nodes in the first layer\n",
    "# Review the number hidden nodes in the first layer\n",
    "display( f\"Number of Neurons (Hidden Nodes) in Alternative Model 1 Layer 1 is: {number_hidden_nodes_layer1_A1}\" ) # Display a label and the number of nodes"
   ]
  },
  {
   "cell_type": "code",
   "execution_count": null,
   "metadata": {},
   "outputs": [],
   "source": [
    "# Create the Sequential model instance\n",
    "nn_A1 = Sequential()   # Instantiate the Sequential model to nn_A1 for the Alternative Model "
   ]
  },
  {
   "cell_type": "code",
   "execution_count": null,
   "metadata": {},
   "outputs": [],
   "source": [
    "# First hidden layer\n",
    "nn_A1.add(Dense(units=number_hidden_nodes_layer1, input_dim=number_input_features, activation=\"gelu\")) # Add the Input layer to the Sequence model using Gelu instead\n",
    "\n",
    "# Add the second hidden layer\n",
    "# Set the number of nodes in the 2nd hidden layer\n",
    "number_hidden_nodes_layer2_A1 = int((number_hidden_nodes_layer1_A1 + 1) / 2)   # For Layer 2 use Half the number of layers from Layer 1\n",
    "# Add the second Dense layer specifying the number of hidden nodes and the activation function\n",
    "nn_A1.add(Dense(units=number_hidden_nodes_layer2_A1, activation=\"mish\")) # Add layer 2 as a hidden layer using MISH\n",
    "\n",
    "# Add the third hidden layer\n",
    "# Set the number of nodes in the 3rd hidden layer\n",
    "number_hidden_nodes_layer3_A1 = int((number_hidden_nodes_layer2_A1 + 1) / 2)   # For Layer 3 use Half the number of layers from Layer 2\n",
    "# Add the third  Dense layer specifying the number of hidden nodes and the activation function\n",
    "nn_A1.add(Dense(units=number_hidden_nodes_layer2_A1, activation=\"tanh\")) # Add layer 2 as a hidden layer which uses the Tanh instead of ReLU activation function this time\n",
    "\n",
    "# Output layer\n",
    "# Add the output layer to the model specifying the number of output neurons and activation function of sigmoid\n",
    "nn_A1.add(Dense(number_output_neurons, activation=\"sigmoid\")) # Add the final (output) layer as a sigmoid as we are looking at predicting a probability (of funding approval) which the function is suited for\n",
    "\n",
    "# Check the structure of the model\n",
    "display( \"*** Alternative Model 1 Summary Information ***\" )\n",
    "nn_A1.summary() # Display the summary of the Alternative Model 1"
   ]
  },
  {
   "cell_type": "code",
   "execution_count": null,
   "metadata": {},
   "outputs": [],
   "source": [
    "# Compile the Sequential model\n",
    "nn_A1.compile(loss=\"binary_crossentropy\", optimizer=\"adam\", metrics=[\"accuracy\"])   # Using binary_crossentropy and the Adam optimiser "
   ]
  },
  {
   "cell_type": "code",
   "execution_count": null,
   "metadata": {},
   "outputs": [],
   "source": [
    "# Fit the model using 100 epochs and the training data\n",
    "fit_model_A1 = nn.fit(X_train_scaled, y_train, epochs=100) # Fit the model to 100 epochs"
   ]
  },
  {
   "cell_type": "markdown",
   "metadata": {},
   "source": [
    "#### Alternative Model 2"
   ]
  },
  {
   "cell_type": "code",
   "execution_count": null,
   "metadata": {},
   "outputs": [],
   "source": [
    "# Define the the number of inputs (features) to the model\n",
    "number_input_features_A2 = number_input_features / 2 # Use the same number of input features as the base model\n",
    "\n",
    "# Review the number of features\n",
    "display( f\"Number of Input Features (Alternative Model 2) is: {number_input_features_A2}\" )"
   ]
  },
  {
   "cell_type": "code",
   "execution_count": null,
   "metadata": {},
   "outputs": [],
   "source": [
    "# Define the number of neurons in the output layer\n",
    "number_output_neurons_A2 = number_output_neurons # Maintain the same number of output neurons as the base model"
   ]
  },
  {
   "cell_type": "code",
   "execution_count": null,
   "metadata": {},
   "outputs": [],
   "source": [
    "# Define the number of hidden nodes for the first hidden layer\n",
    "number_hidden_nodes_layer1_A2 = number_hidden_nodes_layer1 # Maintain the same number of neurons as the base model\n",
    "\n",
    "# Review the number of hidden nodes in the first layer\n",
    "\n",
    "display( f\"Number of Neurons (Alternative Model 2) is: {number_hidden_nodes_layer1_A2}\" )"
   ]
  },
  {
   "cell_type": "code",
   "execution_count": null,
   "metadata": {},
   "outputs": [],
   "source": [
    "# Create the Sequential model instance\n",
    "nn_A2 = Sequential()   # Instantiate the Sequential model to nn_A2 for the Alternative Model "
   ]
  },
  {
   "cell_type": "code",
   "execution_count": null,
   "metadata": {},
   "outputs": [],
   "source": [
    "# First hidden layer\n",
    "nn_A2.add(Dense(units=number_hidden_nodes_layer1_A2, input_dim=number_input_features, activation=\"gelu\")) # Add the Input layer to the Sequence model using Gelu instead\n",
    "\n",
    "# Add the second hidden layer\n",
    "# Set the number of nodes in the 2nd hidden layer\n",
    "number_hidden_nodes_layer2_A2 = int((number_hidden_nodes_layer1_A1 + 1) / 2)   # For Layer 2 use Half the number of layers from Layer 1\n",
    "# Add the second Dense layer specifying the number of hidden nodes and the activation function\n",
    "nn_A2.add(Dense(units=number_hidden_nodes_layer2_A1, activation=\"gelu\")) # Add layer 2 as a hidden layer using GELU\n",
    "\n",
    "# Add the third hidden layer\n",
    "# Set the number of nodes in the 3rd hidden layer\n",
    "number_hidden_nodes_layer3_A2 = int((number_hidden_nodes_layer2_A1 + 1) / 2)   # For Layer 3 use Half the number of layers from Layer 2\n",
    "# Add the third  Dense layer specifying the number of hidden nodes and the activation function\n",
    "nn_A2.add(Dense(units=number_hidden_nodes_layer2_A1, activation=\"tanh\")) # Add layer 2 as a hidden layer which uses the Tanh instead of ReLU activation function this time\n",
    "\n",
    "# Output layer\n",
    "# Add the output layer to the model specifying the number of output neurons and activation function of sigmoid\n",
    "nn_A2.add(Dense(number_output_neurons, activation=\"sigmoid\")) # Add the final (output) layer as a sigmoid as we are looking at predicting a probability (of funding approval) which the function is suited for\n",
    "\n",
    "# Check the structure of the model\n",
    "display( \"*** Alternative Model 2 Summary Information ***\" )\n",
    "nn_A2.summary() # Display the summary of the Alternative Model 1"
   ]
  },
  {
   "cell_type": "code",
   "execution_count": null,
   "metadata": {},
   "outputs": [],
   "source": [
    "# Compile the model\n",
    "nn_A2.compile(loss=\"binary_crossentropy\", optimizer=\"adam\", metrics=[\"accuracy\"])   # Using binary_crossentropy and the Adam optimiser "
   ]
  },
  {
   "cell_type": "code",
   "execution_count": null,
   "metadata": {},
   "outputs": [],
   "source": [
    "# Fit the model using 50 epochs and the training data\n",
    "fit_model = nn_A2.fit(X_train_scaled, y_train, epochs=50) # Fit the model to 50 epochs"
   ]
  },
  {
   "cell_type": "markdown",
   "metadata": {},
   "source": [
    "### Step 2: After finishing your models, display the accuracy scores achieved by each model, and compare the results."
   ]
  },
  {
   "cell_type": "code",
   "execution_count": null,
   "metadata": {},
   "outputs": [],
   "source": [
    "display(\"*** Original Model Results ***\")\n",
    "\n",
    "# Evaluate the model loss and accuracy metrics using the evaluate method and the test data\n",
    "model_loss, model_accuracy = nn.evaluate(X_test_scaled, y_test, verbose=2) # Evaluate the performance of the Base Model\n",
    "\n",
    "# Display the model loss and accuracy results\n",
    "display(f\"Loss: {model_loss}, Accuracy: {model_accuracy}\")"
   ]
  },
  {
   "cell_type": "code",
   "execution_count": null,
   "metadata": {},
   "outputs": [],
   "source": [
    "display(\"*** Alternative Model 1 Results ***\")\n",
    "\n",
    "# Evaluate the model loss and accuracy metrics using the evaluate method and the test data\n",
    "model_loss, model_accuracy = nn_A1.evaluate(X_test_scaled, y_test, verbose=2) # Evaluate the performance of the Alternative Model 1\n",
    "\n",
    "# Display the model loss and accuracy results\n",
    "display(f\"Loss: {model_loss}, Accuracy: {model_accuracy}\")"
   ]
  },
  {
   "cell_type": "code",
   "execution_count": null,
   "metadata": {},
   "outputs": [],
   "source": [
    "display(\"*** Alternative Model 2 Results ***\")\n",
    "\n",
    "# Evaluate the model loss and accuracy metrics using the evaluate method and the test data\n",
    "model_loss, model_accuracy = nn_A2.evaluate(X_test_scaled, y_test, verbose=2) # Evaluate the performance of the Alternative Model 2\n",
    "\n",
    "# Display the model loss and accuracy results\n",
    "display(f\"Loss: {model_loss}, Accuracy: {model_accuracy}\")"
   ]
  },
  {
   "cell_type": "markdown",
   "metadata": {},
   "source": [
    "### Step 3: Save each of your alternative models as an HDF5 file.\n"
   ]
  },
  {
   "cell_type": "code",
   "execution_count": null,
   "metadata": {},
   "outputs": [],
   "source": [
    "# Set the file path for the first alternative model\n",
    "A1_model_file_path = Path(\"../Resources/AlphabetSoup_A1.h5\")  # Set the save filename for alternative model 1 into the ../Resources folder\n",
    "\n",
    "# Export the base model to a HDF5 file format\n",
    "nn_A1.save(A1_model_file_path)  # Save the model to the specified path"
   ]
  },
  {
   "cell_type": "code",
   "execution_count": null,
   "metadata": {},
   "outputs": [],
   "source": [
    "# Set the file path for the second alternative model\n",
    "A2_model_file_path = Path(\"../Resources/AlphabetSoup_A2.h5\")  # Set the save filename for alternative model 2 into the ../Resources folder\n",
    "\n",
    "# Export the base model to a HDF5 file format\n",
    "nn_A2.save(A2_model_file_path)  # Save the model to the specified path"
   ]
  }
 ],
 "metadata": {
  "kernelspec": {
   "display_name": "Python 3 (ipykernel)",
   "language": "python",
   "name": "python3"
  },
  "language_info": {
   "codemirror_mode": {
    "name": "ipython",
    "version": 3
   },
   "file_extension": ".py",
   "mimetype": "text/x-python",
   "name": "python",
   "nbconvert_exporter": "python",
   "pygments_lexer": "ipython3",
   "version": "3.10.12"
  }
 },
 "nbformat": 4,
 "nbformat_minor": 4
}
